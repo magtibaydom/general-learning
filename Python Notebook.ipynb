{
 "cells": [
  {
   "cell_type": "markdown",
   "metadata": {},
   "source": [
    "starting a python file that is existing (in terminal)\n",
    "\n",
    "**code file.py**\n",
    "\n",
    "this will open an instance of visual studio code with the file"
   ]
  },
  {
   "cell_type": "code",
   "execution_count": null,
   "metadata": {},
   "outputs": [],
   "source": [
    "# Ask user for an input\n",
    "\n",
    "input(\"What is your name?\")"
   ]
  },
  {
   "cell_type": "code",
   "execution_count": null,
   "metadata": {},
   "outputs": [],
   "source": [
    "# Returning the input back to the user\n",
    "# Use a variable name for the input to reference it\n",
    "\n",
    "name = input(\"What is your name?\")\n",
    "print(\"Hello, \")\n",
    "print(name)\n",
    "\n",
    "# Since the 'hello' and the name are written on different lines, they will also return the statements on different lines as well\n",
    "\n",
    "# Concatenating the two values can be done by adding +\n",
    "\n",
    "print(\"Hello, \"+ name)"
   ]
  },
  {
   "cell_type": "markdown",
   "metadata": {},
   "source": [
    "Testing the code in terminal\n",
    "\n",
    "**python file.py**\n",
    "\n",
    "This requires saving the file first in the IDE for it to work"
   ]
  },
  {
   "cell_type": "code",
   "execution_count": 1,
   "metadata": {},
   "outputs": [
    {
     "name": "stdout",
     "output_type": "stream",
     "text": [
      "Hello, Dom\n"
     ]
    }
   ],
   "source": [
    "# The completed working version\n",
    "\n",
    "name = input(\"What is your name? \")\n",
    "print(\"Hello, \" + name)"
   ]
  },
  {
   "cell_type": "markdown",
   "metadata": {},
   "source": [
    "**Parameters** are the values that the function can take\n",
    "\n",
    "**Arguments** are the values we pass through the function\n",
    "\n",
    "The parameters of the print function (and how to read it)\n",
    "\n",
    "print(*objects, sep='', end='\\n')\n",
    "\n",
    "*objects are the values that the user is asking to print\n",
    "\n",
    "sep='' is the default separator for the values that the user is printing\n",
    "\n",
    "end='\\n' means that the print function always ends in a new line\n",
    "\n",
    "These parameters can be overriden in the function itself"
   ]
  },
  {
   "cell_type": "code",
   "execution_count": 1,
   "metadata": {},
   "outputs": [
    {
     "name": "stdout",
     "output_type": "stream",
     "text": [
      "Hello World\n"
     ]
    }
   ],
   "source": [
    "# Modifying the end parameter of a string (str)\n",
    "\n",
    "print(\"Hello \", end='')\n",
    "print(\"World\")"
   ]
  },
  {
   "cell_type": "markdown",
   "metadata": {},
   "source": [
    "Adding quotation marks to the string\n",
    "\n",
    "Two ways\n",
    "1. If you are using double quotes to wrap the whole string, you can use single quotes to quote the text (vice versa)\n",
    "2. Adding the backslash to the end of the quoted string \\\"friend\"\\"
   ]
  },
  {
   "cell_type": "code",
   "execution_count": 5,
   "metadata": {},
   "outputs": [
    {
     "name": "stdout",
     "output_type": "stream",
     "text": [
      "My name is Dominic\n"
     ]
    }
   ],
   "source": [
    "# Inputting f before the start of a string tells the code that it is an f-string or a formatted string\n",
    "\n",
    "name = \"Dominic\"\n",
    "print(f\"My name is {name}\")"
   ]
  },
  {
   "cell_type": "code",
   "execution_count": 16,
   "metadata": {},
   "outputs": [
    {
     "data": {
      "text/plain": [
       "'Magtibay'"
      ]
     },
     "execution_count": 16,
     "metadata": {},
     "output_type": "execute_result"
    }
   ],
   "source": [
    "# Removing whitespace from a string\n",
    "name = \"   dominic    \"\n",
    "\n",
    "# Use the method called strip, methods are added after the variable and a dot\n",
    "name.strip()\n",
    "\n",
    "# Capitalizing the string input\n",
    "surname = \"magtibay\"\n",
    "surname.capitalize()"
   ]
  },
  {
   "cell_type": "code",
   "execution_count": 21,
   "metadata": {},
   "outputs": [
    {
     "name": "stdout",
     "output_type": "stream",
     "text": [
      "Your name is Dominic Magtibay\n"
     ]
    }
   ],
   "source": [
    "# Joining methods (removing whitespace and capitalizing the name)\n",
    "\n",
    "name = \"    dominic magtibay     \"\n",
    "\n",
    "# Creating a variable that contains the cleaned string\n",
    "cleanedName = name.strip().title()\n",
    "\n",
    "print(f\"Your name is {cleanedName}\")"
   ]
  },
  {
   "cell_type": "code",
   "execution_count": 27,
   "metadata": {},
   "outputs": [
    {
     "name": "stdout",
     "output_type": "stream",
     "text": [
      "You are Dominic\n"
     ]
    }
   ],
   "source": [
    "# Inputting the user's name\n",
    "\n",
    "name = input(\"What is your name? \")\n",
    "\n",
    "# Creating a variable that contains the cleaned up name\n",
    "\n",
    "cleanName = name.strip().title()\n",
    "\n",
    "# Splitting the cleaned name to isolate the first name for print \n",
    "# Splitting the string assigns the split values to the listed variable names before the equal sign respectively\n",
    "first, last = cleanName.split(\" \")\n",
    "\n",
    "\n",
    "# Print the value\n",
    "print(f\"You are {first}\")"
   ]
  },
  {
   "cell_type": "markdown",
   "metadata": {},
   "source": [
    "Integers\n",
    "\n",
    "+ = add (when used in integers it adds, when used in strings it concatenates)\n",
    "- = subtract\n",
    "* = multiply\n",
    "/ = divide\n",
    "% = modulo"
   ]
  },
  {
   "cell_type": "markdown",
   "metadata": {},
   "source": [
    "**Python interactive mode**\n",
    "\n",
    "running 'python' alone on the terminal, it instantly runs the code when enter is pressed"
   ]
  },
  {
   "cell_type": "code",
   "execution_count": 28,
   "metadata": {},
   "outputs": [
    {
     "name": "stdout",
     "output_type": "stream",
     "text": [
      "3\n"
     ]
    }
   ],
   "source": [
    "# Simple calculator\n",
    "\n",
    "x = input(\"What is x? \")\n",
    "y = input(\"What is y? \")\n",
    "\n",
    "# If a number is put as an argument in the string function, it will convert it to an integer\n",
    "z = int(x) + int(y)\n",
    "\n",
    "print(z)"
   ]
  },
  {
   "cell_type": "code",
   "execution_count": 29,
   "metadata": {},
   "outputs": [
    {
     "name": "stdout",
     "output_type": "stream",
     "text": [
      "4\n"
     ]
    }
   ],
   "source": [
    "# Just like Google Sheets, you can nest functions and use their result as the argument for the outer function\n",
    "\n",
    "x = int(input(\"Value of X: \"))\n",
    "y = int(input(\"Value of Y: \"))\n",
    "\n",
    "print(x + y)"
   ]
  },
  {
   "cell_type": "code",
   "execution_count": 32,
   "metadata": {},
   "outputs": [
    {
     "name": "stdout",
     "output_type": "stream",
     "text": [
      "5\n"
     ]
    }
   ],
   "source": [
    "# Integers do not include the decimal values, you need to use the float type\n",
    "\n",
    "x = float(input(\"Input X: \"))\n",
    "y = float(input(\"Input Y: \"))\n",
    "\n",
    "# Round the answer \n",
    "# Documentation for round function - round(number [,ndigits]) (the square brackets mean that the argument is optional)\n",
    "rounded = round(x + y)\n",
    "\n",
    "print(rounded)"
   ]
  },
  {
   "cell_type": "markdown",
   "metadata": {},
   "source": [
    "The F-string\n",
    "\n",
    "Using the f-string\n",
    "\n",
    "1. The string to be formatted should be enclosed in curly brackets {}\n",
    "2. Put 'f' (without quotes) before the string (outside the quotes, example: (f\"{string}))\n",
    "3. You can add additional formatting to the string by using ':' \n",
    "        For example, to show 1,000 instead of 1000 when dealing with integers you add ':,' after the string inside the curly bracket\n",
    "4. To tell the string how many digits it should print, you can use the round() function or add .2f to the f-string (the number signifies the number of digits)"
   ]
  },
  {
   "cell_type": "code",
   "execution_count": 34,
   "metadata": {},
   "outputs": [
    {
     "name": "stdout",
     "output_type": "stream",
     "text": [
      "2,000\n"
     ]
    }
   ],
   "source": [
    "x = float(input(\"Input X: \"))\n",
    "y = float(input(\"Input Y: \"))\n",
    "\n",
    "rounded = round(x + y)\n",
    "\n",
    "print(f\"{rounded:,}\")\n"
   ]
  },
  {
   "cell_type": "code",
   "execution_count": 36,
   "metadata": {},
   "outputs": [
    {
     "name": "stdout",
     "output_type": "stream",
     "text": [
      "Hello, you are Dom\n"
     ]
    }
   ],
   "source": [
    "# Use def to define a function\n",
    "\n",
    "def hello():\n",
    "    name = input(\"What is your name? \")\n",
    "    cleanName = name.strip().title()\n",
    "    print(f\"Hello, you are {name}\")\n",
    "\n",
    "hello()"
   ]
  },
  {
   "cell_type": "code",
   "execution_count": 38,
   "metadata": {},
   "outputs": [
    {
     "name": "stdout",
     "output_type": "stream",
     "text": [
      "Hello, Dom\n"
     ]
    }
   ],
   "source": [
    "# Adding a parameter to the function\n",
    "# The argument inside the defined function is the argument that it will take\n",
    "# You can get the value outside the definition of the function\n",
    "def hello(you):\n",
    "    print(\"Hello,\",you)\n",
    "\n",
    "name = input(\"Your name is? \")\n",
    "hello(name)"
   ]
  },
  {
   "cell_type": "code",
   "execution_count": 39,
   "metadata": {},
   "outputs": [
    {
     "name": "stdout",
     "output_type": "stream",
     "text": [
      "Hello, how are you?\n"
     ]
    }
   ],
   "source": [
    "# You can add a default value to the argument in the def of the function, this will work incase it remains empty\n",
    "\n",
    "def hello(you=\"how are you?\"):\n",
    "    print(\"Hello,\",you)\n",
    "\n",
    "hello()"
   ]
  }
 ],
 "metadata": {
  "kernelspec": {
   "display_name": "Python 3",
   "language": "python",
   "name": "python3"
  },
  "language_info": {
   "codemirror_mode": {
    "name": "ipython",
    "version": 3
   },
   "file_extension": ".py",
   "mimetype": "text/x-python",
   "name": "python",
   "nbconvert_exporter": "python",
   "pygments_lexer": "ipython3",
   "version": "3.10.11"
  },
  "orig_nbformat": 4
 },
 "nbformat": 4,
 "nbformat_minor": 2
}
