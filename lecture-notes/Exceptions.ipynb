{
 "cells": [
  {
   "cell_type": "markdown",
   "metadata": {},
   "source": [
    "**Exceptions**\n",
    "\n",
    "An Exception is an error that happens during the execution of a program. Whenever there is an error, Python generates an exception that could be handled. It basically prevents the program from getting crashed.\n",
    "\n",
    "**Terms**\n",
    "literal - value that is inputted manually to the code\n",
    "base10 - refers to the integer system"
   ]
  },
  {
   "cell_type": "code",
   "execution_count": 3,
   "metadata": {},
   "outputs": [
    {
     "name": "stdout",
     "output_type": "stream",
     "text": [
      "your number is 1\n"
     ]
    }
   ],
   "source": [
    "# Running a program that takes input as integers and prints them\n",
    "\n",
    "number = int(input(\"Give a number: \"))\n",
    "print(f\"your number is {number}\")\n",
    "\n",
    "# If the user inputs a string to the number, an error will occur (invalid literal)"
   ]
  },
  {
   "cell_type": "code",
   "execution_count": null,
   "metadata": {},
   "outputs": [],
   "source": [
    "# Using try and except\n",
    "\n",
    "# try - try the code\n",
    "# except - except when the condition is met\n",
    "\n",
    "try:\n",
    "    number = int(input(\"Give a number: \"))\n",
    "    print(f\"your number is {number}\")\n",
    "\n",
    "except ValueError:\n",
    "    print(\"the value provided is not an integer\")\n",
    "\n",
    "# It is not recommended to create a catch all error message because sometimes bugs cannot be determined easily"
   ]
  },
  {
   "cell_type": "code",
   "execution_count": 6,
   "metadata": {},
   "outputs": [
    {
     "name": "stdout",
     "output_type": "stream",
     "text": [
      "the value provided is not an integer\n",
      "your number is 5\n"
     ]
    }
   ],
   "source": [
    "# Putting multiple lines of code inside try is not best practice, only the lines that might return an error should be inside the try function\n",
    "# One implementation can be like this\n",
    "try:\n",
    "    x = int(input(\"Give a number: \"))\n",
    "except ValueError:\n",
    "    print(\"the value provided is not an integer\")\n",
    "\n",
    "print(f\"your number is {x}\")\n",
    "\n",
    "# For some reason the code remembers the last valid value of  and returns it alongside the exception when an invalid value is provided"
   ]
  },
  {
   "cell_type": "code",
   "execution_count": 5,
   "metadata": {},
   "outputs": [
    {
     "name": "stdout",
     "output_type": "stream",
     "text": [
      "the value provided is not an integer\n"
     ]
    }
   ],
   "source": [
    "# NameError - when the code is doing something about the name of a variable that it shouldn't\n",
    "\n",
    "#1. Try to do the following\n",
    "try:\n",
    "    x = int(input(\"Give a number: \"))\n",
    "\n",
    "#2. Except when this happens\n",
    "except ValueError:\n",
    "    print(\"the value provided is not an integer\")\n",
    "\n",
    "#3. Else just do this\n",
    "else:\n",
    "    print(f\"your number is {x}\")\n",
    "\n",
    "# In this instance of Jupyter notebook, the NameError is not returned for some reason but when this code is ran on a regular python script, it will return the NameError just fine"
   ]
  },
  {
   "cell_type": "code",
   "execution_count": 14,
   "metadata": {},
   "outputs": [
    {
     "name": "stdout",
     "output_type": "stream",
     "text": [
      "The value provided is not valid\n",
      "Your number is 1\n"
     ]
    }
   ],
   "source": [
    "# Prompting the user repeatedly to ask for a correct value\n",
    "while True:\n",
    "    try:\n",
    "        x = int(input(\"Please give a positive integer: \"))\n",
    "    except ValueError:\n",
    "        print(\"The value provided is not valid\")\n",
    "    else:\n",
    "        break\n",
    "\n",
    "# The fulfillment of the else clause from the correct input in try breaks the loop\n",
    "\n",
    "print(f\"Your number is {x}\")"
   ]
  },
  {
   "cell_type": "code",
   "execution_count": 20,
   "metadata": {},
   "outputs": [
    {
     "data": {
      "text/plain": [
       "5"
      ]
     },
     "execution_count": 20,
     "metadata": {},
     "output_type": "execute_result"
    }
   ],
   "source": [
    "# Creating a get_int function\n",
    "\n",
    "def get_int():\n",
    "    while True:\n",
    "        try:\n",
    "            x = int(input(\"Please give a positive integer: \"))\n",
    "        except ValueError:\n",
    "            print(\"That is not valid. Give a positive integer.\")\n",
    "        else:\n",
    "            return x\n",
    "        \n",
    "# Return can also be used to break out of a loop instead of having break linee\n",
    "\n",
    "get_int()"
   ]
  },
  {
   "cell_type": "code",
   "execution_count": 22,
   "metadata": {},
   "outputs": [
    {
     "data": {
      "text/plain": [
       "1"
      ]
     },
     "execution_count": 22,
     "metadata": {},
     "output_type": "execute_result"
    }
   ],
   "source": [
    "# Using pass to ignore the caught exceptions\n",
    "\n",
    "def get_int():\n",
    "    while True:\n",
    "        try:\n",
    "            x = int(input(\"Please give a positive integer: \"))\n",
    "        except ValueError:\n",
    "            pass\n",
    "        else:\n",
    "            return x\n",
    "\n",
    "# Pass ignores the error and the caller will not know if there has been an error\n",
    "\n",
    "get_int()"
   ]
  },
  {
   "cell_type": "code",
   "execution_count": 26,
   "metadata": {},
   "outputs": [
    {
     "name": "stdout",
     "output_type": "stream",
     "text": [
      "x is 1\n"
     ]
    }
   ],
   "source": [
    "# Using arguments to make more reusable code\n",
    "\n",
    "def main():\n",
    "    x = get_int(\"What is x? \") # The argument of the get_int function here can be passed down to other parts of the code\n",
    "    print(f\"x is {x}\")\n",
    "\n",
    "\n",
    "def get_int(prompt):    # The 'prompt' here means that that is the argument that this function takes, \n",
    "                        # that is whatever the caller of the function put inside the parentheses when the use the function\n",
    "\n",
    "    while True:\n",
    "        try:\n",
    "            x = int(input(prompt)) # Using prompt again here will copy the argument the caller used in their implementation\n",
    "        except ValueError:\n",
    "            pass\n",
    "        else:\n",
    "            return x\n",
    "        \n",
    "main()"
   ]
  },
  {
   "cell_type": "code",
   "execution_count": null,
   "metadata": {},
   "outputs": [],
   "source": []
  }
 ],
 "metadata": {
  "kernelspec": {
   "display_name": "Python 3",
   "language": "python",
   "name": "python3"
  },
  "language_info": {
   "codemirror_mode": {
    "name": "ipython",
    "version": 3
   },
   "file_extension": ".py",
   "mimetype": "text/x-python",
   "name": "python",
   "nbconvert_exporter": "python",
   "pygments_lexer": "ipython3",
   "version": "3.10.11"
  },
  "orig_nbformat": 4
 },
 "nbformat": 4,
 "nbformat_minor": 2
}
