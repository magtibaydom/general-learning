{
 "cells": [
  {
   "cell_type": "markdown",
   "metadata": {},
   "source": [
    "**Conditionals**"
   ]
  },
  {
   "cell_type": "code",
   "execution_count": null,
   "metadata": {},
   "outputs": [],
   "source": [
    "# Logic Symbols \n",
    "\n",
    "# > - Greater than\n",
    "# >= - Greater than or equal to\n",
    "# < - Less than\n",
    "# <= - Less than or equal to\n",
    "# == - Equal (the single equal signs means assignment from left to right, double equals means equality)\n",
    "# != - Not equal"
   ]
  },
  {
   "cell_type": "code",
   "execution_count": 2,
   "metadata": {},
   "outputs": [
    {
     "name": "stdout",
     "output_type": "stream",
     "text": [
      "x is less than y\n"
     ]
    }
   ],
   "source": [
    "# compare.py\n",
    "\n",
    "x = int(input(\"What's x? \"))\n",
    "y = int(input(\"What's y? \"))\n",
    "\n",
    "if x < y:\n",
    "    print(\"x is less than y\")\n",
    "if x > y: \n",
    "    print(\"x is greater than y\")\n",
    "if x == y:\n",
    "    print(\"x is equal to y\")\n",
    "\n",
    "# This is not an optimized code since the questioning is repetitive"
   ]
  },
  {
   "cell_type": "code",
   "execution_count": 1,
   "metadata": {},
   "outputs": [
    {
     "name": "stdout",
     "output_type": "stream",
     "text": [
      "x is equal to y\n"
     ]
    }
   ],
   "source": [
    "# Using 'elif' means that the code will not stop asking questions until it comes to a TRUE answer\n",
    "# elif compare.py\n",
    "\n",
    "x = int(input(\"X: \"))\n",
    "y = int(input(\"Y: \"))\n",
    "\n",
    "if x < y:\n",
    "    print(\"x is less than y\")\n",
    "elif x > y:\n",
    "    print(\"x is greater than y\")\n",
    "elif x == y:\n",
    "    print(\"x is equal to y\")\n",
    "\n",
    "# Sequence of evaluation\n",
    "# if => elif => elif until it gets a TRUE"
   ]
  },
  {
   "cell_type": "code",
   "execution_count": null,
   "metadata": {},
   "outputs": [],
   "source": [
    "# 'else' is the evaluation if the previous condition(s) do not return TRUE, it is the catch all\n",
    "# else compare.py\n",
    "\n",
    "x = int(input(\"X: \"))\n",
    "y = int(input(\"Y: \"))\n",
    "\n",
    "if x < y:\n",
    "    print(\"x is less than y\")\n",
    "elif x > y:\n",
    "    print(\"x is greater than y\")\n",
    "else:\n",
    "    print(\"x is equal to y\")"
   ]
  },
  {
   "cell_type": "code",
   "execution_count": 4,
   "metadata": {},
   "outputs": [
    {
     "name": "stdout",
     "output_type": "stream",
     "text": [
      "Other Grades\n"
     ]
    }
   ],
   "source": [
    "# Chaining conditionals\n",
    "# grade.py\n",
    "\n",
    "score = int(input(\"Score: \"))\n",
    "\n",
    "if 90 <= score <= 100:\n",
    "    print(\"Grade: A\")\n",
    "elif 80 <= score < 90:\n",
    "    print(\"Grade: B\")\n",
    "else:\n",
    "    print(\"Other Grades\")\n",
    "\n",
    "# Not using elif to evaluate other statements will make the code answer the question regardless, elif makes it mutually exclusive\n",
    "# and will only return the result of the first TRUE statement it encounters"
   ]
  },
  {
   "cell_type": "code",
   "execution_count": 5,
   "metadata": {},
   "outputs": [
    {
     "name": "stdout",
     "output_type": "stream",
     "text": [
      "Odd\n"
     ]
    }
   ],
   "source": [
    "# The Modulo - parity.py \n",
    "# parity - if a number is odd or even\n",
    "\n",
    "x = int(input(\"X: \"))\n",
    "\n",
    "if x % 2 == 0:\n",
    "    print(\"Even\")\n",
    "else:\n",
    "    print(\"Odd\")"
   ]
  },
  {
   "cell_type": "code",
   "execution_count": 15,
   "metadata": {},
   "outputs": [
    {
     "name": "stdout",
     "output_type": "stream",
     "text": [
      "Even\n"
     ]
    }
   ],
   "source": [
    "# Writing a function to check if a number is even or odd\n",
    "# parityfunction.py\n",
    "\n",
    "# Main function that will be called that contains the end results\n",
    "def main():\n",
    "    x = int(input(\"X: \"))\n",
    "    if is_even(x):\n",
    "        print(\"Even\")\n",
    "    else:\n",
    "        print(\"Odd\")\n",
    "\n",
    "# Just using the statement will return BOOLEAN values even if it is not specified\n",
    "# Since I used the logic operator == it returns a TRUE or FALSE without using the return \n",
    "# But it is best practice to write return always\n",
    "def is_even(n):\n",
    "    n % 2 == 0\n",
    "\n",
    "# Defining is_even can also include specifying BOOLEAN values\n",
    "def is_even(m):\n",
    "    if m % 2 == 0:\n",
    "        return True\n",
    "    else:\n",
    "        return False\n",
    "    \n",
    "# It can be written like a spreadsheet formula in one line\n",
    "def is_even(b):\n",
    "    return True if b % 2 == 0 else False\n",
    "\n",
    "main()"
   ]
  },
  {
   "cell_type": "code",
   "execution_count": 25,
   "metadata": {},
   "outputs": [
    {
     "name": "stdout",
     "output_type": "stream",
     "text": [
      "Beer\n",
      "Beer\n"
     ]
    }
   ],
   "source": [
    "# Using 'match'\n",
    "# beer.py\n",
    "\n",
    "def traditional_match():\n",
    "    name = input(\"What alcohol do you like? \")\n",
    "\n",
    "    match name:\n",
    "        case \"Red Horse\":\n",
    "            print(\"Beer\")\n",
    "        case \"Empe\":\n",
    "            print(\"Brandy\")\n",
    "        case \"Pilsen\":\n",
    "            print(\"Beer\")\n",
    "        case \"Fundador\":\n",
    "            print(\"Brandy\")\n",
    "\n",
    "    # To include a catch all for all the cases that are not defined in the match, you can put an underscore\n",
    "        case _: \n",
    "            print(\"What's that?\")\n",
    "\n",
    "def compact_match():\n",
    "    name = input(\"What alcohol do you like? \")\n",
    "\n",
    "    # Instead of using different lines for the cases that will return the same value the | symbol can be used to define multiple cases\n",
    "    match name:\n",
    "        case \"Red Horse\"| \"Pilsen\" | \"Smirnoff\":\n",
    "            print(\"Beer\")\n",
    "        case \"Empe\" | \"Fundador\" | \"Alfonso\":\n",
    "            print(\"Brandy\")\n",
    "        case _:\n",
    "            print(\"What's that?\")\n",
    "\n",
    "\n",
    "compact_match()\n",
    "traditional_match()"
   ]
  }
 ],
 "metadata": {
  "kernelspec": {
   "display_name": "Python 3",
   "language": "python",
   "name": "python3"
  },
  "language_info": {
   "codemirror_mode": {
    "name": "ipython",
    "version": 3
   },
   "file_extension": ".py",
   "mimetype": "text/x-python",
   "name": "python",
   "nbconvert_exporter": "python",
   "pygments_lexer": "ipython3",
   "version": "3.10.11"
  },
  "orig_nbformat": 4
 },
 "nbformat": 4,
 "nbformat_minor": 2
}
