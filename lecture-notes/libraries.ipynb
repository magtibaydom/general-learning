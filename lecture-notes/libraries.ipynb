{
 "cells": [
  {
   "cell_type": "markdown",
   "metadata": {},
   "source": [
    "**Libraries**\n",
    "Code that somebody or you has written to promote reusabilty of program"
   ]
  },
  {
   "cell_type": "code",
   "execution_count": 1,
   "metadata": {},
   "outputs": [],
   "source": [
    "# Using modules in the programs\n",
    "\n",
    "# using the import function\n",
    "\n",
    "import random\n",
    "\n",
    "# from is the same as import but you can specify the specific module that you need, this is to avoid the repetitiveness of putting libraryname.module everytime\n",
    "\n",
    "from random import choice\n",
    "\n",
    "# this code imports the choice module only, without the contents of the whole random module and you can use the name of the module by itself when calling it"
   ]
  },
  {
   "cell_type": "code",
   "execution_count": 2,
   "metadata": {},
   "outputs": [
    {
     "name": "stdout",
     "output_type": "stream",
     "text": [
      "hello, my name is --ip=127.0.0.1\n"
     ]
    }
   ],
   "source": [
    "# Commmand line arguments - allows to provide input not when prompted inside a program, you can input when you are just executing in the command line\n",
    "\n",
    "# sys.argv\n",
    "\n",
    "import sys\n",
    "\n",
    "print(\"hello, my name is\", sys.argv[1]) # (argument vector)\n",
    "\n",
    "# when this file is called you can input a string after the command and it will return it to you as part of the print\n",
    "\n",
    "python name.py Dominic\n",
    "\n",
    "# This will return the value of \"hello, my name is Dominic\""
   ]
  },
  {
   "cell_type": "code",
   "execution_count": 4,
   "metadata": {},
   "outputs": [
    {
     "name": "stdout",
     "output_type": "stream",
     "text": [
      "['popcorn', 'hotdog', 'estopado', 'kwek kwek', 'raeken']\n",
      "raeken\n"
     ]
    }
   ],
   "source": [
    "# slicing a list in python\n",
    "\n",
    "list = [\"beer\", \"popcorn\", \"hotdog\", \"estopado\", \"kwek kwek\", \"raeken\"]\n",
    "\n",
    "# To slice the list, you need to indicate where to start and where to end using the indexes on a square bracket\n",
    "\n",
    "print(list[1:])\n",
    "\n",
    "# syntax [index to start : index to end]\n",
    "# the end of the list can be left empty to signify that i want to run throughout the list, but the colon is necessary\n",
    "\n",
    "# Using a negative number in indexes will have it count from the end backwards\n",
    "print(list[-1])"
   ]
  },
  {
   "cell_type": "code",
   "execution_count": 5,
   "metadata": {},
   "outputs": [
    {
     "data": {
      "text/plain": [
       "'__main__'"
      ]
     },
     "execution_count": 5,
     "metadata": {},
     "output_type": "execute_result"
    }
   ],
   "source": [
    "# JSON - JavaScript Object Notation\n",
    "# package for APIs = requests\n",
    "\n",
    "__name__"
   ]
  }
 ],
 "metadata": {
  "kernelspec": {
   "display_name": "Python 3",
   "language": "python",
   "name": "python3"
  },
  "language_info": {
   "codemirror_mode": {
    "name": "ipython",
    "version": 3
   },
   "file_extension": ".py",
   "mimetype": "text/x-python",
   "name": "python",
   "nbconvert_exporter": "python",
   "pygments_lexer": "ipython3",
   "version": "3.10.11"
  },
  "orig_nbformat": 4
 },
 "nbformat": 4,
 "nbformat_minor": 2
}
