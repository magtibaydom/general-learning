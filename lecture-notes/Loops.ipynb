{
 "cells": [
  {
   "cell_type": "markdown",
   "metadata": {},
   "source": [
    "**Loops**"
   ]
  },
  {
   "cell_type": "code",
   "execution_count": 1,
   "metadata": {},
   "outputs": [
    {
     "name": "stdout",
     "output_type": "stream",
     "text": [
      "meow\n"
     ]
    }
   ],
   "source": [
    "#cat.py\n",
    "\n",
    "print(\"meow\")"
   ]
  },
  {
   "cell_type": "code",
   "execution_count": null,
   "metadata": {},
   "outputs": [],
   "source": [
    "# Using 'while'\n",
    "# Can be used to repeat an action as many times as needed\n",
    "\n",
    "i = 3\n",
    "while i != 0:\n",
    "    print(\"meow\")\n",
    "\n",
    "# Running this code will make the print run forever since there's nothing that is changing the value of i\n",
    "# Adding a subtractive value to i will fulfill the condition"
   ]
  },
  {
   "cell_type": "code",
   "execution_count": 3,
   "metadata": {},
   "outputs": [
    {
     "name": "stdout",
     "output_type": "stream",
     "text": [
      "meow\n",
      "meow\n",
      "meow\n"
     ]
    }
   ],
   "source": [
    "# 3 cat meows\n",
    "\n",
    "i = 3\n",
    "while i != 0:\n",
    "    print(\"meow\")\n",
    "    i = i - 1 # When the code loops, the value of i is updated\n",
    "\n",
    "    # Incrementing numbers can be done by using the syntax i += 1"
   ]
  },
  {
   "cell_type": "code",
   "execution_count": 10,
   "metadata": {},
   "outputs": [
    {
     "name": "stdout",
     "output_type": "stream",
     "text": [
      "You want to hear the dog which has the sound quack\n",
      "Here are the sounds you requested: \n",
      "quack\n"
     ]
    }
   ],
   "source": [
    "#animal_sounds.py\n",
    "\n",
    "def main():\n",
    "    animal = input(\"What animal sound do you want to make? \")\n",
    "    sound = input(\"What sound does that animal make? \")\n",
    "    sound_count = int(input(\"How many times do you want to hear the animal? \"))\n",
    "\n",
    "    animal_clean = animal.strip()\n",
    "    sound_clean = sound.strip()\n",
    "\n",
    "    print(f\"You want to hear the {animal_clean} which has the sound {sound_clean}\")\n",
    "    print(\"Here are the sounds you requested: \")\n",
    "\n",
    "    while sound_count != 0:\n",
    "        print(f\"{sound_clean}\")\n",
    "        sound_count -= 1\n",
    "\n",
    "main()"
   ]
  },
  {
   "cell_type": "markdown",
   "metadata": {},
   "source": [
    "**Using 'for'**\n",
    "\n",
    "syntax:\n",
    "\n",
    "**for** variable **in** list in square brackets\n",
    "\n",
    "for assigns the variables in each of the values in the list in each iteration, for example if a list contains [0, 1, 2] the variable will have the value of 0, 1, and 2 in each iteration respectively"
   ]
  },
  {
   "cell_type": "code",
   "execution_count": 2,
   "metadata": {},
   "outputs": [
    {
     "name": "stdout",
     "output_type": "stream",
     "text": [
      "meow\n",
      "meow\n"
     ]
    }
   ],
   "source": [
    "# Using 'range'\n",
    "# range() takes a parameter of an integer and it will return the number of values specified starting from 0\n",
    "\n",
    "for i in range(1):\n",
    "    print(\"meow\")\n",
    "\n",
    "# You can use an underscore for a variable in a function if it is not needed\n",
    "\n",
    "print(\"meow\\n\" * 1, end='')\n",
    "\n",
    "# \\n is used in str to add new lines\n",
    "# end='' in print signifies what will be at the end of the print"
   ]
  },
  {
   "cell_type": "code",
   "execution_count": 3,
   "metadata": {},
   "outputs": [
    {
     "name": "stdout",
     "output_type": "stream",
     "text": [
      "meow\n",
      "meow\n"
     ]
    }
   ],
   "source": [
    "# To create an infinite loop you can use\n",
    "\n",
    "while True: \n",
    "    n = int(input(\"What's n? \"))\n",
    "    # This will repeatedly ask the user what is n until they provide a positive number\n",
    "    if n > 0:\n",
    "        break # 'break' ends the loop\n",
    "\n",
    "for _ in range(n):\n",
    "    print(\"meow\")"
   ]
  },
  {
   "cell_type": "code",
   "execution_count": 15,
   "metadata": {},
   "outputs": [
    {
     "name": "stdout",
     "output_type": "stream",
     "text": [
      "meow\n",
      "meow\n",
      "meow\n",
      "meow\n",
      "meow\n"
     ]
    }
   ],
   "source": [
    "# Creating a meow function\n",
    "# meow.py\n",
    "\n",
    "def main():\n",
    "    number = get_number()\n",
    "    meow(number)\n",
    "\n",
    "def get_number():\n",
    "    while True:\n",
    "        n = int(input(\"How many times do you want to meow? \"))\n",
    "        if n > 0:\n",
    "            break\n",
    "    return n\n",
    "\n",
    "def meow(n):\n",
    "    for _ in range(n):\n",
    "        print(\"meow\")\n",
    "\n",
    "main()"
   ]
  },
  {
   "cell_type": "code",
   "execution_count": null,
   "metadata": {},
   "outputs": [],
   "source": [
    "# Creating a list\n",
    "\n",
    "drinks = [\"Pilsen\", \"Red Horse\", \"Smirnoff\"]\n",
    "\n",
    "# To print a specific value inside the list, you need to index the location of the item in the list and put it in square brackets (counting starts at 0)\n",
    "\n",
    "print(drinks[0])\n",
    "\n",
    "# Using the for loop to print every item in a list\n",
    "\n",
    "for drink in drinks:\n",
    "    print(drink)\n",
    "# for assigns the variable name to each of the item in the list and uses it to print, meaning that Pilsen is now a value of student, as well as Red Horse and Smirnoff\n",
    "# you can also use the assigned variable outside of the loop, but for some reason it chooses the last item in the list\n",
    "\n",
    "print(drink)\n",
    "\n",
    "# To get the number of items in a list instead of the values, len is used\n",
    "for i in range(len(drinks)):\n",
    "    print(i)\n",
    "# This function prints the index of the list associated with each value instead of the actual string values\n",
    "\n",
    "# Since print can take more than 1 variable, you can print the index alongside the associated value\n",
    "for i in range(len(drinks)):\n",
    "    print(i+1, drinks[i])\n",
    "# To start the conventional counting from number 1, you can add + 1 to the value of the index\n",
    "\n",
    "# Using this list indexing it is possible to count backwards the list and control the number of values to be returned within a single function"
   ]
  },
  {
   "cell_type": "code",
   "execution_count": 32,
   "metadata": {},
   "outputs": [
    {
     "name": "stdout",
     "output_type": "stream",
     "text": [
      "1 Red Horse\n",
      "2 Red Horse\n",
      "3 Red Horse\n"
     ]
    }
   ],
   "source": [
    "# Using dict (dictionaries)\n",
    "# A dictionary is a 2D list that associates keys and values\n",
    "\n",
    "# Using the previous list to visualize keys and values\n",
    "\n",
    "drinks = [\"Pilsen\", \"Red Horse\", \"Smirnoff\"]\n",
    "\n",
    "for i in range(len(drinks)):\n",
    "    print(i+1, drinks[1])\n",
    "\n",
    "# Looking at the output, \n",
    "# 1 Red Horse\n",
    "# 2 Red Horse\n",
    "# 3 Red Horse\n",
    "# the 'keys' are the numbers from the index and the values are the string values in the list"
   ]
  },
  {
   "cell_type": "code",
   "execution_count": 40,
   "metadata": {},
   "outputs": [
    {
     "name": "stdout",
     "output_type": "stream",
     "text": [
      "Beer\n",
      "Pilsen\n",
      "Empe\n",
      "Mug\n",
      "Pilsen | Beer\n",
      "Empe | Brandy\n",
      "Mug | Rootbeer\n"
     ]
    }
   ],
   "source": [
    "# Dictionaries\n",
    "# Curly braces are used to contain the values in a dictionary\n",
    "# The syntax is \"Associate this value:To this one\"\n",
    "# Keys on the left and values in the right\n",
    "\n",
    "drinks = {\n",
    "    \"Pilsen\":\"Beer\",\n",
    "    \"Empe\":\"Brandy\",\n",
    "    \"Mug\":\"Rootbeer\"\n",
    "}\n",
    "\n",
    "# printing from dictionaries\n",
    "# instead of the index, you can put the keys in the square brackets to print the associated value\n",
    "print(drinks[\"Pilsen\"]) # This function prints beer\n",
    "\n",
    "# When using for loop in the values of the dictionary, the loop will only iterate only the keys\n",
    "for drink in drinks:\n",
    "    print(drink)\n",
    "\n",
    "# To change this, the index should still be included just like before\n",
    "\n",
    "for drink in drinks:\n",
    "    print(drink, drinks[drink], sep=\" | \")"
   ]
  },
  {
   "cell_type": "code",
   "execution_count": 45,
   "metadata": {},
   "outputs": [
    {
     "name": "stdout",
     "output_type": "stream",
     "text": [
      "Pilsen, Beer, Cheap\n",
      "Red Horse, Beer, Not so cheap\n",
      "Fundador, Brandy, Expensive\n",
      "Water, None, Not so cheap\n"
     ]
    }
   ],
   "source": [
    "# Storing dictionaries in a single list can be done by putting dictionaries (in curly brackets) inside square brackets\n",
    "\n",
    "drinks = [{\"name\":\"Pilsen\",\"type\":\"Beer\",\"price\":\"Cheap\"},\n",
    "          {\"name\":\"Red Horse\",\"type\":\"Beer\",\"price\":\"Not so cheap\"},\n",
    "          {\"name\":\"Fundador\",\"type\":\"Brandy\",\"price\":\"Expensive\"},\n",
    "          {\"name\":\"Water\",\"type\":None,\"price\":\"Not so cheap\"}\n",
    "          ]\n",
    "\n",
    "for drink in drinks:\n",
    "    print(drink[\"name\"],drink[\"type\"],drink[\"price\"],sep=\", \")"
   ]
  },
  {
   "cell_type": "code",
   "execution_count": 47,
   "metadata": {},
   "outputs": [
    {
     "name": "stdout",
     "output_type": "stream",
     "text": [
      "#\n",
      "#\n",
      "#\n",
      "#\n"
     ]
    }
   ],
   "source": [
    "# mario.py height\n",
    "\n",
    "def main():\n",
    "    print_column(4)\n",
    "\n",
    "\n",
    "def print_column(height):\n",
    "    for brick in range(height):\n",
    "        print(\"#\")\n",
    "\n",
    "main()"
   ]
  },
  {
   "cell_type": "code",
   "execution_count": 59,
   "metadata": {},
   "outputs": [
    {
     "name": "stdout",
     "output_type": "stream",
     "text": [
      "?????"
     ]
    }
   ],
   "source": [
    "# mario.py length with user input\n",
    "\n",
    "def main():\n",
    "    print_row(number)\n",
    "\n",
    "def get_length():\n",
    "    while True:\n",
    "        i = int(input(\"How long do you want the length to be? \"))\n",
    "        if i > 0:\n",
    "            break\n",
    "    return i\n",
    "\n",
    "number = get_length()\n",
    "\n",
    "def print_row(width):\n",
    "    for brick in range(width):\n",
    "        print(\"?\",end=\"\")\n",
    "\n",
    "main()"
   ]
  },
  {
   "cell_type": "code",
   "execution_count": 69,
   "metadata": {},
   "outputs": [
    {
     "name": "stdout",
     "output_type": "stream",
     "text": [
      "###\n",
      "###\n",
      "###\n",
      "--\n"
     ]
    }
   ],
   "source": [
    "# mario_square.py\n",
    "\n",
    "def main():\n",
    "    print_square(3)\n",
    "\n",
    "def print_square(size):\n",
    "    # For each rows in the square\n",
    "    for i in range(size):\n",
    "\n",
    "        # For each brick in the row\n",
    "        for j in range(size):\n",
    "\n",
    "            # Printing of the bricks\n",
    "            print(\"#\",end=\"\")\n",
    "\n",
    "        # This print a new line modifies the 'for i' loop, so each loop of 'for j' will create a new line\n",
    "        print() \n",
    "main()\n",
    "\n",
    "print(\"--\")"
   ]
  }
 ],
 "metadata": {
  "kernelspec": {
   "display_name": "Python 3",
   "language": "python",
   "name": "python3"
  },
  "language_info": {
   "codemirror_mode": {
    "name": "ipython",
    "version": 3
   },
   "file_extension": ".py",
   "mimetype": "text/x-python",
   "name": "python",
   "nbconvert_exporter": "python",
   "pygments_lexer": "ipython3",
   "version": "3.10.11"
  },
  "orig_nbformat": 4
 },
 "nbformat": 4,
 "nbformat_minor": 2
}
