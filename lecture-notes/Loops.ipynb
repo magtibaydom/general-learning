{
 "cells": [
  {
   "cell_type": "markdown",
   "metadata": {},
   "source": [
    "**Loops**"
   ]
  },
  {
   "cell_type": "code",
   "execution_count": 1,
   "metadata": {},
   "outputs": [
    {
     "name": "stdout",
     "output_type": "stream",
     "text": [
      "meow\n"
     ]
    }
   ],
   "source": [
    "#cat.py\n",
    "\n",
    "print(\"meow\")"
   ]
  },
  {
   "cell_type": "code",
   "execution_count": null,
   "metadata": {},
   "outputs": [],
   "source": [
    "# Using 'while'\n",
    "# Can be used to repeat an action as many times as needed\n",
    "\n",
    "i = 3\n",
    "while i != 0:\n",
    "    print(\"meow\")\n",
    "\n",
    "# Running this code will make the print run forever since there's nothing that is changing the value of i\n",
    "# Adding a subtractive value to i will fulfill the condition"
   ]
  },
  {
   "cell_type": "code",
   "execution_count": 3,
   "metadata": {},
   "outputs": [
    {
     "name": "stdout",
     "output_type": "stream",
     "text": [
      "meow\n",
      "meow\n",
      "meow\n"
     ]
    }
   ],
   "source": [
    "# 3 cat meows\n",
    "\n",
    "i = 3\n",
    "while i != 0:\n",
    "    print(\"meow\")\n",
    "    i = i - 1 # When the code loops, the value of i is updated\n",
    "\n",
    "    # Incrementing numbers can be done by using the syntax i += 1"
   ]
  },
  {
   "cell_type": "code",
   "execution_count": 10,
   "metadata": {},
   "outputs": [
    {
     "name": "stdout",
     "output_type": "stream",
     "text": [
      "You want to hear the dog which has the sound quack\n",
      "Here are the sounds you requested: \n",
      "quack\n"
     ]
    }
   ],
   "source": [
    "#animal_sounds.py\n",
    "\n",
    "def main():\n",
    "    animal = input(\"What animal sound do you want to make? \")\n",
    "    sound = input(\"What sound does that animal make? \")\n",
    "    sound_count = int(input(\"How many times do you want to hear the animal? \"))\n",
    "\n",
    "    animal_clean = animal.strip()\n",
    "    sound_clean = sound.strip()\n",
    "\n",
    "    print(f\"You want to hear the {animal_clean} which has the sound {sound_clean}\")\n",
    "    print(\"Here are the sounds you requested: \")\n",
    "\n",
    "    while sound_count != 0:\n",
    "        print(f\"{sound_clean}\")\n",
    "        sound_count -= 1\n",
    "\n",
    "main()"
   ]
  },
  {
   "cell_type": "markdown",
   "metadata": {},
   "source": [
    "**Using 'for'**\n",
    "\n",
    "syntax:\n",
    "\n",
    "**for** variable **in** list in square brackets\n",
    "\n",
    "for assigns the variables in each of the values in the list in each iteration, for example if a list contains [0, 1, 2] the variable will have the value of 0, 1, and 2 in each iteration respectively"
   ]
  },
  {
   "cell_type": "code",
   "execution_count": 19,
   "metadata": {},
   "outputs": [
    {
     "name": "stdout",
     "output_type": "stream",
     "text": [
      "meow\n",
      "meow\n",
      "meow\n",
      "meow\n",
      "meow\n",
      "meow\n"
     ]
    }
   ],
   "source": [
    "# Using 'range'\n",
    "# range() takes a parameter of an integer and it will return the number of values specified starting from 0\n",
    "\n",
    "for i in range(3):\n",
    "    print(\"meow\")\n",
    "\n",
    "# You can use an underscore for a variable in a function if it is not needed\n",
    "\n",
    "print(\"meow\\n\" * 3, end='')\n",
    "\n",
    "# \\n is used in str to add new lines\n",
    "# end='' in print signifies what will be at the end of the print"
   ]
  }
 ],
 "metadata": {
  "kernelspec": {
   "display_name": "Python 3",
   "language": "python",
   "name": "python3"
  },
  "language_info": {
   "codemirror_mode": {
    "name": "ipython",
    "version": 3
   },
   "file_extension": ".py",
   "mimetype": "text/x-python",
   "name": "python",
   "nbconvert_exporter": "python",
   "pygments_lexer": "ipython3",
   "version": "3.10.11"
  },
  "orig_nbformat": 4
 },
 "nbformat": 4,
 "nbformat_minor": 2
}
