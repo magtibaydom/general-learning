{
 "cells": [
  {
   "cell_type": "markdown",
   "metadata": {},
   "source": [
    "**Conditionals**"
   ]
  },
  {
   "cell_type": "code",
   "execution_count": null,
   "metadata": {},
   "outputs": [],
   "source": [
    "# Logic Symbols \n",
    "\n",
    "# > - Greater than\n",
    "# >= - Greater than or equal to\n",
    "# < - Less than\n",
    "# <= - Less than or equal to\n",
    "# == - Equal (the single equal signs means assignment from left to right, double equals means equality)\n",
    "# != - Not equal"
   ]
  },
  {
   "cell_type": "code",
   "execution_count": 2,
   "metadata": {},
   "outputs": [
    {
     "name": "stdout",
     "output_type": "stream",
     "text": [
      "x is less than y\n"
     ]
    }
   ],
   "source": [
    "# compare.py\n",
    "\n",
    "x = int(input(\"What's x? \"))\n",
    "y = int(input(\"What's y? \"))\n",
    "\n",
    "if x < y:\n",
    "    print(\"x is less than y\")\n",
    "if x > y: \n",
    "    print(\"x is greater than y\")\n",
    "if x == y:\n",
    "    print(\"x is equal to y\")\n",
    "\n",
    "# This is not an optimized code since the questioning is repetitive"
   ]
  },
  {
   "cell_type": "code",
   "execution_count": 1,
   "metadata": {},
   "outputs": [
    {
     "name": "stdout",
     "output_type": "stream",
     "text": [
      "x is equal to y\n"
     ]
    }
   ],
   "source": [
    "# Using 'elif' means that the code will not stop asking questions until it comes to a TRUE answer\n",
    "# elif compare.py\n",
    "\n",
    "x = int(input(\"X: \"))\n",
    "y = int(input(\"Y: \"))\n",
    "\n",
    "if x < y:\n",
    "    print(\"x is less than y\")\n",
    "elif x > y:\n",
    "    print(\"x is greater than y\")\n",
    "elif x == y:\n",
    "    print(\"x is equal to y\")\n",
    "\n",
    "# Sequence of evaluation\n",
    "# if => elif => elif until it gets a TRUE"
   ]
  }
 ],
 "metadata": {
  "kernelspec": {
   "display_name": "Python 3",
   "language": "python",
   "name": "python3"
  },
  "language_info": {
   "codemirror_mode": {
    "name": "ipython",
    "version": 3
   },
   "file_extension": ".py",
   "mimetype": "text/x-python",
   "name": "python",
   "nbconvert_exporter": "python",
   "pygments_lexer": "ipython3",
   "version": "3.10.11"
  },
  "orig_nbformat": 4
 },
 "nbformat": 4,
 "nbformat_minor": 2
}
